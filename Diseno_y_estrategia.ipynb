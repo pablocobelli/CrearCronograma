{
 "cells": [
  {
   "cell_type": "markdown",
   "metadata": {},
   "source": [
    "# Crear Cronograma de cursos automaticamente"
   ]
  },
  {
   "cell_type": "markdown",
   "metadata": {},
   "source": [
    "---"
   ]
  },
  {
   "cell_type": "markdown",
   "metadata": {},
   "source": [
    "La idea consiste en automatizar la generacion de un cronograma de materia que liste en orden la sucesion temporal de clases, intercalando teoricas, practicas y laboratorios (si es el caso), de forma tal de facilitar la organizacion tematica de cada clase. Esto es particularmente importante cuando se quiere mantener a la teorica siempre 'por delante tematicamente' de la practica y/o el laboratorio. "
   ]
  },
  {
   "cell_type": "markdown",
   "metadata": {},
   "source": [
    "Los pasos serian los siguientes."
   ]
  },
  {
   "cell_type": "markdown",
   "metadata": {},
   "source": [
    "Partiendo de:\n",
    "  - Las fechas de inicio y fin del cuatrimestre en cuestion\n",
    "  - Los nombres de los dias de la semana que hay teoricas\n",
    "  - Los nombres de los dias de la semana que hay practicas\n",
    "  - Los nombres de los dias de la semana que hay laboratorio\n",
    "  - Las fechas de los feriados\n",
    "    \n",
    "se busca automatizar la creacion de un archivo Excel que contenga un *cronograma integrado* de todo el curso, en donde se marquen aquellas fechas que sean feriado."
   ]
  },
  {
   "cell_type": "markdown",
   "metadata": {},
   "source": [
    "---"
   ]
  },
  {
   "cell_type": "code",
   "execution_count": 1,
   "metadata": {
    "collapsed": true
   },
   "outputs": [],
   "source": [
    "import datetime"
   ]
  },
  {
   "cell_type": "code",
   "execution_count": 2,
   "metadata": {
    "collapsed": false
   },
   "outputs": [
    {
     "data": {
      "text/plain": [
       "datetime.datetime(2016, 3, 2, 19, 30, 4, 253498)"
      ]
     },
     "execution_count": 2,
     "metadata": {},
     "output_type": "execute_result"
    }
   ],
   "source": [
    "datetime.datetime.now()"
   ]
  },
  {
   "cell_type": "code",
   "execution_count": 4,
   "metadata": {
    "collapsed": false
   },
   "outputs": [
    {
     "data": {
      "text/plain": [
       "'Wednesday'"
      ]
     },
     "execution_count": 4,
     "metadata": {},
     "output_type": "execute_result"
    }
   ],
   "source": [
    "datetime.datetime.now().strftime(\"%A\")"
   ]
  },
  {
   "cell_type": "code",
   "execution_count": 242,
   "metadata": {
    "collapsed": false
   },
   "outputs": [],
   "source": [
    "fecha_inicio = datetime.date(2016,3,14)\n",
    "fecha_final  = datetime.date(2016,7,2)"
   ]
  },
  {
   "cell_type": "code",
   "execution_count": 243,
   "metadata": {
    "collapsed": false
   },
   "outputs": [
    {
     "data": {
      "text/plain": [
       "'Monday'"
      ]
     },
     "execution_count": 243,
     "metadata": {},
     "output_type": "execute_result"
    }
   ],
   "source": [
    "fecha_inicio.strftime(\"%A\")"
   ]
  },
  {
   "cell_type": "code",
   "execution_count": 244,
   "metadata": {
    "collapsed": false
   },
   "outputs": [
    {
     "data": {
      "text/plain": [
       "'Saturday'"
      ]
     },
     "execution_count": 244,
     "metadata": {},
     "output_type": "execute_result"
    }
   ],
   "source": [
    "fecha_final.strftime(\"%A\")"
   ]
  },
  {
   "cell_type": "code",
   "execution_count": 245,
   "metadata": {
    "collapsed": false
   },
   "outputs": [
    {
     "name": "stdout",
     "output_type": "stream",
     "text": [
      "2016-03-14\n",
      "2016-03-16\n",
      "2016-03-21\n",
      "2016-03-23\n",
      "2016-03-28\n",
      "2016-03-30\n",
      "2016-04-04\n",
      "2016-04-06\n",
      "2016-04-11\n",
      "2016-04-13\n",
      "2016-04-18\n",
      "2016-04-20\n",
      "2016-04-25\n",
      "2016-04-27\n",
      "2016-05-02\n",
      "2016-05-04\n",
      "2016-05-09\n",
      "2016-05-11\n",
      "2016-05-16\n",
      "2016-05-18\n",
      "2016-05-23\n",
      "2016-05-25\n",
      "2016-05-30\n",
      "2016-06-01\n",
      "2016-06-06\n",
      "2016-06-08\n",
      "2016-06-13\n",
      "2016-06-15\n",
      "2016-06-20\n",
      "2016-06-22\n",
      "2016-06-27\n",
      "2016-06-29\n"
     ]
    }
   ],
   "source": [
    "# fechas entre inicio y final\n",
    "delta = fecha_final - fecha_inicio\n",
    "\n",
    "for i in range(delta.days + 1):\n",
    "    current = fecha_inicio + datetime.timedelta(days=i)\n",
    "    if current.strftime(\"%A\") == 'Monday':\n",
    "        print(current)\n",
    "  \n",
    "    if current.strftime(\"%A\") == 'Wednesday':\n",
    "        print(current)"
   ]
  },
  {
   "cell_type": "code",
   "execution_count": 13,
   "metadata": {
    "collapsed": true
   },
   "outputs": [],
   "source": [
    "# Detectando feriados"
   ]
  },
  {
   "cell_type": "code",
   "execution_count": 59,
   "metadata": {
    "collapsed": false
   },
   "outputs": [
    {
     "data": {
      "text/plain": [
       "['2016-03-24', '2016-03-25', '2016-04-02', '2016-05-25']"
      ]
     },
     "execution_count": 59,
     "metadata": {},
     "output_type": "execute_result"
    }
   ],
   "source": [
    "feriados = [ \"2016-03-24\", \"2016-03-25\", \"2016-04-02\", \"2016-05-25\" ]\n",
    "feriados"
   ]
  },
  {
   "cell_type": "code",
   "execution_count": 28,
   "metadata": {
    "collapsed": false
   },
   "outputs": [
    {
     "name": "stdout",
     "output_type": "stream",
     "text": [
      "2016-03-14\n",
      "2016-03-16\n",
      "2016-03-21\n",
      "2016-03-23\n",
      "2016-03-28\n",
      "2016-03-30\n",
      "2016-04-04\n",
      "2016-04-06\n",
      "2016-04-11\n",
      "2016-04-13\n",
      "2016-04-18\n",
      "2016-04-20\n",
      "2016-04-25\n",
      "2016-04-27\n",
      "2016-05-02\n",
      "2016-05-04\n",
      "2016-05-09\n",
      "2016-05-11\n",
      "2016-05-16\n",
      "2016-05-18\n",
      "2016-05-23\n",
      "2016-05-25 es feriado\n",
      "2016-05-30\n",
      "2016-06-01\n",
      "2016-06-06\n",
      "2016-06-08\n",
      "2016-06-13\n",
      "2016-06-15\n",
      "2016-06-20\n",
      "2016-06-22\n",
      "2016-06-27\n",
      "2016-06-29\n"
     ]
    }
   ],
   "source": [
    "# detectamos feriados entre inicio y final\n",
    "delta = fecha_final - fecha_inicio\n",
    "\n",
    "lista_dias = []\n",
    "contador = 0\n",
    "\n",
    "for i in range(delta.days + 1):\n",
    "    current = fecha_inicio + datetime.timedelta(days=i)\n",
    "    if current.strftime(\"%A\") == 'Monday':\n",
    "        lista_dias.append(current)\n",
    "        contador += 1\n",
    "  \n",
    "    if current.strftime(\"%A\") == 'Wednesday':\n",
    "        lista_dias.append(current)\n",
    "        contador += 1\n",
    "           \n",
    "for i in lista_dias:\n",
    "    if i.isoformat() in feriados:\n",
    "        print(i.strftime('%Y-%m-%d') + \" es feriado\")\n",
    "    else:\n",
    "        print(i)"
   ]
  },
  {
   "cell_type": "markdown",
   "metadata": {},
   "source": [
    "Soy muy vago... podemos tomar los feriados haciendo html scrapping, es decir, solo pasandole al algoritmo python la direccion web del calendario exactas?"
   ]
  },
  {
   "cell_type": "code",
   "execution_count": 62,
   "metadata": {
    "collapsed": false
   },
   "outputs": [
    {
     "name": "stdout",
     "output_type": "stream",
     "text": [
      "['01-01-2016', '08-02-2016', '09-02-2016', '24-03-2016', '24-03-2016', '25-03-2016', '02-04-2016', '23-04-2016', '24-04-2016', '24-04-2016', '29-04-2016', '30-04-2016', '01-05-2016', '25-05-2016', '20-06-2016', '08-07-2016', '09-07-2016', '15-08-2016', '21-09-2016', '03-10-2016', '04-10-2016', '10-10-2016', '11-10-2016', '12-10-2016', '28-11-2016', '08-12-2016', '09-12-2016', '25-12-2016']\n"
     ]
    }
   ],
   "source": [
    "from bs4 import BeautifulSoup\n",
    "from urllib.request import urlopen\n",
    "import codecs\n",
    "\n",
    "response = urlopen('http://exactas.uba.ar/academico/display.php?estructura=2&desarrollo=1&id_caja=31&nivel_caja=1')\n",
    "html = response.read()\n",
    "soup = BeautifulSoup(html,\"lxml\")\n",
    "\n",
    "# el 1 al final de la siguiente linea es porque la table que buscamos\n",
    "# en el sitio web de la FCEN es la *segunda tabla* que aparece con la\n",
    "# descripcion de clase \"tabla_persona\", esperemos que no la cambien!\n",
    "tabla_feriados = soup.findAll(\"table\", {\"class\" : \"tabla_persona\"})[1] \n",
    "\n",
    "feriados = []\n",
    "\n",
    "records = [] # store all of the records in this list\n",
    "for row in tabla_feriados.findAll('tr')[1:]:\n",
    "    col = row.findAll('td')\n",
    "    fecha_feriado = col[0].string.strip()\n",
    "    razon_feriado = col[1].string.strip()\n",
    "    record = '%s,%s' % (fecha_feriado, razon_feriado) # store the record with a ';' between prvy and druhy\n",
    "    records.append(record)\n",
    "    feriados.append(fecha_feriado)\n",
    "    \n",
    "# Lo interesante es que en la variable feriados tenemos la lista de feriados del agno!    \n",
    "print(feriados)    \n",
    "\n",
    "fl = codecs.open('Lista_de_Feriados.txt', 'wb', 'utf8')\n",
    "line = ';'.join(records)\n",
    "fl.write(line + u'\\r\\n')\n",
    "fl.close()"
   ]
  },
  {
   "cell_type": "code",
   "execution_count": 63,
   "metadata": {
    "collapsed": false
   },
   "outputs": [
    {
     "name": "stdout",
     "output_type": "stream",
     "text": [
      "01-01-2016,Año Nuevo;08-02-2016,Carnaval;09-02-2016,Carnaval;24-03-2016,Día Nacional de la Memoria por la Verdad y la Justicia;24-03-2016,Jueves Santo;25-03-2016,Viernes Santo;02-04-2016,Día del Veterano y de los Caídos en la Guerra de Malvinas;23-04-2016,1er día de Pascua Judía;24-04-2016,2do día de Pascua Judía;24-04-2016,Día de Acción por la Tolerancia y el Respeto entre los Pueblos;29-04-2016,Anteúltimo día de Pascua Judía;30-04-2016,Último día de Pascua Judía;01-05-2016,Día del Trabajador;25-05-2016,Día de la Revolución de Mayo;20-06-2016,Paso a la Inmortalidad del General Belgrano;08-07-2016,Feriado Puente Turístico;09-07-2016,Día de la Independencia;15-08-2016,Paso a la Inmortalidad del General San Martín;21-09-2016,Día del Estudiante;03-10-2016,Año Nuevo Judío;04-10-2016,Año Nuevo Judío;10-10-2016,Día del Respeto a la Diversidad Cultural;11-10-2016,Día del Perdón;12-10-2016,Día del Perdón;28-11-2016,Día de la Soberanía Nacional;08-12-2016,Inmaculada Concepción de María;09-12-2016,Feriado Puente Turístico;25-12-2016,Navidad\r",
      "\r\n"
     ]
    }
   ],
   "source": [
    "!cat Lista_de_Feriados.txt"
   ]
  },
  {
   "cell_type": "code",
   "execution_count": 64,
   "metadata": {
    "collapsed": false
   },
   "outputs": [
    {
     "data": {
      "text/plain": [
       "['01-01-2016',\n",
       " '08-02-2016',\n",
       " '09-02-2016',\n",
       " '24-03-2016',\n",
       " '24-03-2016',\n",
       " '25-03-2016',\n",
       " '02-04-2016',\n",
       " '23-04-2016',\n",
       " '24-04-2016',\n",
       " '24-04-2016',\n",
       " '29-04-2016',\n",
       " '30-04-2016',\n",
       " '01-05-2016',\n",
       " '25-05-2016',\n",
       " '20-06-2016',\n",
       " '08-07-2016',\n",
       " '09-07-2016',\n",
       " '15-08-2016',\n",
       " '21-09-2016',\n",
       " '03-10-2016',\n",
       " '04-10-2016',\n",
       " '10-10-2016',\n",
       " '11-10-2016',\n",
       " '12-10-2016',\n",
       " '28-11-2016',\n",
       " '08-12-2016',\n",
       " '09-12-2016',\n",
       " '25-12-2016']"
      ]
     },
     "execution_count": 64,
     "metadata": {},
     "output_type": "execute_result"
    }
   ],
   "source": [
    "feriados"
   ]
  },
  {
   "cell_type": "markdown",
   "metadata": {},
   "source": [
    "Es hora de probar si funciona con mi cursada! Uso el mismo codigo de antes, pero ahora habiendo definido la variable `feriados` via el `html` scrapping que acabo de hacer..."
   ]
  },
  {
   "cell_type": "code",
   "execution_count": 67,
   "metadata": {
    "collapsed": false
   },
   "outputs": [
    {
     "name": "stdout",
     "output_type": "stream",
     "text": [
      "14-03-2016\n",
      "16-03-2016\n",
      "21-03-2016\n",
      "23-03-2016\n",
      "28-03-2016\n",
      "30-03-2016\n",
      "04-04-2016\n",
      "06-04-2016\n",
      "11-04-2016\n",
      "13-04-2016\n",
      "18-04-2016\n",
      "20-04-2016\n",
      "25-04-2016\n",
      "27-04-2016\n",
      "02-05-2016\n",
      "04-05-2016\n",
      "09-05-2016\n",
      "11-05-2016\n",
      "16-05-2016\n",
      "18-05-2016\n",
      "23-05-2016\n",
      "25-05-2016 es feriado\n",
      "30-05-2016\n",
      "01-06-2016\n",
      "06-06-2016\n",
      "08-06-2016\n",
      "13-06-2016\n",
      "15-06-2016\n",
      "20-06-2016 es feriado\n",
      "22-06-2016\n",
      "27-06-2016\n",
      "29-06-2016\n"
     ]
    }
   ],
   "source": [
    "# detectamos feriados entre inicio y final\n",
    "delta = fecha_final - fecha_inicio\n",
    "\n",
    "lista_dias = []\n",
    "contador = 0\n",
    "\n",
    "for i in range(delta.days + 1):\n",
    "    current = fecha_inicio + datetime.timedelta(days=i)\n",
    "    if current.strftime(\"%A\") == 'Monday':\n",
    "        lista_dias.append(current)\n",
    "        contador += 1\n",
    "  \n",
    "    if current.strftime(\"%A\") == 'Wednesday':\n",
    "        lista_dias.append(current)\n",
    "        contador += 1\n",
    "           \n",
    "for i in lista_dias:\n",
    "    # Estoy obligado a modificar la forma en la que se comparan porque \n",
    "    # en la tabla de la FCEN, la fecha esta en formato dd-mm-yy\n",
    "    if i.strftime('%d-%m-%Y') in feriados:\n",
    "        print(i.strftime('%d-%m-%Y') + \" es feriado\")\n",
    "    else:\n",
    "        print(i.strftime('%d-%m-%Y'))"
   ]
  },
  {
   "cell_type": "markdown",
   "metadata": {},
   "source": [
    "Ahora veamos como hacemos para crear un archivo Excel con Python..."
   ]
  },
  {
   "cell_type": "code",
   "execution_count": 68,
   "metadata": {
    "collapsed": true
   },
   "outputs": [],
   "source": [
    "import xlsxwriter"
   ]
  },
  {
   "cell_type": "code",
   "execution_count": 72,
   "metadata": {
    "collapsed": true
   },
   "outputs": [],
   "source": [
    "workbook = xlsxwriter.Workbook('prueba.xlsx')\n",
    "worksheet = workbook.add_worksheet('Cronograma')\n",
    "\n",
    "# Widen the first column to make the text clearer.\n",
    "# worksheet.set_column('A:A', 20)\n",
    "\n",
    "# Add a bold format to use to highlight cells.\n",
    "bold = workbook.add_format({'bold': True})\n",
    "\n",
    "# Escribamos los encabezados de la primera linea.\n",
    "# Write some simple text.\n",
    "worksheet.write('A1', 'Clase', bold)\n",
    "worksheet.write('B1', 'Fecha', bold)\n",
    "worksheet.write('C1', 'Teoricas', bold)\n",
    "\n",
    "# Escribimos la lista de dias\n",
    "j = 1\n",
    "for i in lista_dias:\n",
    "    worksheet.write(j, 1, i.strftime('%d-%m-%Y'))\n",
    "    if i.strftime('%d-%m-%Y') in feriados:\n",
    "        worksheet.write(j, 2, \"Feriado\")\n",
    "    j += 1 \n",
    "\n",
    "workbook.close()"
   ]
  },
  {
   "cell_type": "markdown",
   "metadata": {},
   "source": [
    "Quedaria ver como organizar facilmente los inputs de la rutina, para que sean lo menos estructurados posibles, ya que uno podria desear un cronograma solo de practicas, o bien de una materia sin laboratorio, o bien de una materia con varios turnos de practicas, etc. Ensayemos..."
   ]
  },
  {
   "cell_type": "code",
   "execution_count": 83,
   "metadata": {
    "collapsed": true
   },
   "outputs": [],
   "source": [
    "horarios = { 'Teoricas': ['lunes','miercoles'], 'Laboratorio 1': ['martes']}"
   ]
  },
  {
   "cell_type": "code",
   "execution_count": 86,
   "metadata": {
    "collapsed": false
   },
   "outputs": [
    {
     "data": {
      "text/plain": [
       "2"
      ]
     },
     "execution_count": 86,
     "metadata": {},
     "output_type": "execute_result"
    }
   ],
   "source": [
    "horarios['Teoricas'].__len__()"
   ]
  },
  {
   "cell_type": "code",
   "execution_count": 87,
   "metadata": {
    "collapsed": false
   },
   "outputs": [
    {
     "data": {
      "text/plain": [
       "'miercoles'"
      ]
     },
     "execution_count": 87,
     "metadata": {},
     "output_type": "execute_result"
    }
   ],
   "source": [
    "horarios['Teoricas'][1]"
   ]
  },
  {
   "cell_type": "code",
   "execution_count": 88,
   "metadata": {
    "collapsed": false
   },
   "outputs": [
    {
     "data": {
      "text/plain": [
       "2"
      ]
     },
     "execution_count": 88,
     "metadata": {},
     "output_type": "execute_result"
    }
   ],
   "source": [
    "horarios.__len__()"
   ]
  },
  {
   "cell_type": "code",
   "execution_count": 89,
   "metadata": {
    "collapsed": false
   },
   "outputs": [
    {
     "data": {
      "text/plain": [
       "2"
      ]
     },
     "execution_count": 89,
     "metadata": {},
     "output_type": "execute_result"
    }
   ],
   "source": [
    "len(horarios)"
   ]
  },
  {
   "cell_type": "code",
   "execution_count": 95,
   "metadata": {
    "collapsed": false
   },
   "outputs": [
    {
     "data": {
      "text/plain": [
       "dict_keys(['Laboratorio 1', 'Teoricas'])"
      ]
     },
     "execution_count": 95,
     "metadata": {},
     "output_type": "execute_result"
    }
   ],
   "source": [
    "horarios.keys()"
   ]
  },
  {
   "cell_type": "code",
   "execution_count": 96,
   "metadata": {
    "collapsed": false
   },
   "outputs": [
    {
     "data": {
      "text/plain": [
       "'Laboratorio 1'"
      ]
     },
     "execution_count": 96,
     "metadata": {},
     "output_type": "execute_result"
    }
   ],
   "source": [
    "list(horarios.keys())[0]"
   ]
  },
  {
   "cell_type": "markdown",
   "metadata": {},
   "source": [
    "Esta bien pero necesitariamos conservar el orden, asi es ese mismo orden el que se vuelca a la tabla Excel. Para eso necesitamos diccionarios ordenados..."
   ]
  },
  {
   "cell_type": "code",
   "execution_count": 97,
   "metadata": {
    "collapsed": true
   },
   "outputs": [],
   "source": [
    "from collections import OrderedDict"
   ]
  },
  {
   "cell_type": "code",
   "execution_count": 107,
   "metadata": {
    "collapsed": false
   },
   "outputs": [],
   "source": [
    "horarios =  OrderedDict([('Teoricas', ['Monday','Wednesday']), ('Laboratorio 1', ['Friday'])])"
   ]
  },
  {
   "cell_type": "code",
   "execution_count": 108,
   "metadata": {
    "collapsed": false
   },
   "outputs": [
    {
     "data": {
      "text/plain": [
       "['Monday', 'Wednesday']"
      ]
     },
     "execution_count": 108,
     "metadata": {},
     "output_type": "execute_result"
    }
   ],
   "source": [
    "horarios['Teoricas']"
   ]
  },
  {
   "cell_type": "code",
   "execution_count": 109,
   "metadata": {
    "collapsed": false
   },
   "outputs": [
    {
     "data": {
      "text/plain": [
       "2"
      ]
     },
     "execution_count": 109,
     "metadata": {},
     "output_type": "execute_result"
    }
   ],
   "source": [
    "horarios.__len__()"
   ]
  },
  {
   "cell_type": "code",
   "execution_count": 110,
   "metadata": {
    "collapsed": false
   },
   "outputs": [
    {
     "data": {
      "text/plain": [
       "'Teoricas'"
      ]
     },
     "execution_count": 110,
     "metadata": {},
     "output_type": "execute_result"
    }
   ],
   "source": [
    "list(horarios.keys())[0]"
   ]
  },
  {
   "cell_type": "code",
   "execution_count": 111,
   "metadata": {
    "collapsed": false
   },
   "outputs": [
    {
     "data": {
      "text/plain": [
       "'Laboratorio 1'"
      ]
     },
     "execution_count": 111,
     "metadata": {},
     "output_type": "execute_result"
    }
   ],
   "source": [
    "list(horarios.keys())[1]"
   ]
  },
  {
   "cell_type": "markdown",
   "metadata": {},
   "source": [
    "## Comenzamos la modularizacion del codigo"
   ]
  },
  {
   "cell_type": "code",
   "execution_count": 116,
   "metadata": {
    "collapsed": true
   },
   "outputs": [],
   "source": [
    "pagina = 'http://exactas.uba.ar/academico/display.php?estructura=2&desarrollo=1&id_caja=31&nivel_caja=1'"
   ]
  },
  {
   "cell_type": "code",
   "execution_count": 119,
   "metadata": {
    "collapsed": false
   },
   "outputs": [],
   "source": [
    "def lista_de_feriados(pagina_web_calendario_exactas, guardar=False):\n",
    "    from bs4 import BeautifulSoup\n",
    "    from urllib.request import urlopen\n",
    "    import codecs\n",
    "\n",
    "    response = urlopen(pagina_web_calendario_exactas)\n",
    "    html = response.read()\n",
    "    soup = BeautifulSoup(html,\"lxml\")\n",
    "\n",
    "    # el 1 al final de la siguiente linea es porque la table que buscamos\n",
    "    # en el sitio web de la FCEN es la *segunda tabla* que aparece con la\n",
    "    # descripcion de clase \"tabla_persona\", esperemos que no la cambien!\n",
    "    tabla_feriados = soup.findAll(\"table\", {\"class\" : \"tabla_persona\"})[1] \n",
    "\n",
    "    feriados = []\n",
    "\n",
    "    records = []\n",
    "    for row in tabla_feriados.findAll('tr')[1:]:\n",
    "        col = row.findAll('td')\n",
    "        fecha_feriado = col[0].string.strip()\n",
    "        razon_feriado = col[1].string.strip()\n",
    "        record = '%s,%s' % (fecha_feriado, razon_feriado) \n",
    "        records.append(record)\n",
    "        feriados.append(fecha_feriado)\n",
    "    \n",
    "    if guardar == True:\n",
    "        fl = codecs.open('Lista_de_Feriados.txt', 'wb', 'utf8')\n",
    "        line = ';'.join(records)\n",
    "        fl.write(line + u'\\r\\n')\n",
    "        fl.close()\n",
    "        \n",
    "    return feriados"
   ]
  },
  {
   "cell_type": "code",
   "execution_count": 122,
   "metadata": {
    "collapsed": false
   },
   "outputs": [
    {
     "data": {
      "text/plain": [
       "['01-01-2016',\n",
       " '08-02-2016',\n",
       " '09-02-2016',\n",
       " '24-03-2016',\n",
       " '24-03-2016',\n",
       " '25-03-2016',\n",
       " '02-04-2016',\n",
       " '23-04-2016',\n",
       " '24-04-2016',\n",
       " '24-04-2016',\n",
       " '29-04-2016',\n",
       " '30-04-2016',\n",
       " '01-05-2016',\n",
       " '25-05-2016',\n",
       " '20-06-2016',\n",
       " '08-07-2016',\n",
       " '09-07-2016',\n",
       " '15-08-2016',\n",
       " '21-09-2016',\n",
       " '03-10-2016',\n",
       " '04-10-2016',\n",
       " '10-10-2016',\n",
       " '11-10-2016',\n",
       " '12-10-2016',\n",
       " '28-11-2016',\n",
       " '08-12-2016',\n",
       " '09-12-2016',\n",
       " '25-12-2016']"
      ]
     },
     "execution_count": 122,
     "metadata": {},
     "output_type": "execute_result"
    }
   ],
   "source": [
    "feriados = []\n",
    "feriados = lista_de_feriados(pagina)\n",
    "feriados"
   ]
  },
  {
   "cell_type": "code",
   "execution_count": 114,
   "metadata": {
    "collapsed": true
   },
   "outputs": [],
   "source": [
    "fecha_inicio = datetime.date(2016,3,14)\n",
    "fecha_final  = datetime.date(2016,7,2)\n",
    "\n",
    "cursada = [fecha_inicio, fecha_final]\n",
    "cursada"
   ]
  },
  {
   "cell_type": "code",
   "execution_count": 126,
   "metadata": {
    "collapsed": false
   },
   "outputs": [
    {
     "data": {
      "text/plain": [
       "'Teoricas'"
      ]
     },
     "execution_count": 126,
     "metadata": {},
     "output_type": "execute_result"
    }
   ],
   "source": [
    "turno = list(horarios.keys())[0]\n",
    "turno"
   ]
  },
  {
   "cell_type": "code",
   "execution_count": 127,
   "metadata": {
    "collapsed": true
   },
   "outputs": [],
   "source": [
    "# Comenzamos detectando fechas entre inicio y final\n",
    "def lista_de_dias_de_clase(horarios, turno, cursada, feriados):\n",
    "    import datetime\n",
    "    \n",
    "    delta = cursada[1] - cursada[0]\n",
    "\n",
    "    lista_dias = []\n",
    "    contador = 0\n",
    "\n",
    "    for i in range(delta.days + 1):\n",
    "        current = fecha_inicio + datetime.timedelta(days=i)\n",
    "        if current.strftime(\"%A\") in horarios[turno]:\n",
    "            lista_dias.append(current)\n",
    "            contador += 1\n",
    "           \n",
    "    return lista_dias"
   ]
  },
  {
   "cell_type": "code",
   "execution_count": 135,
   "metadata": {
    "collapsed": false
   },
   "outputs": [
    {
     "data": {
      "text/plain": [
       "[datetime.date(2016, 3, 14),\n",
       " datetime.date(2016, 3, 16),\n",
       " datetime.date(2016, 3, 21),\n",
       " datetime.date(2016, 3, 23),\n",
       " datetime.date(2016, 3, 28),\n",
       " datetime.date(2016, 3, 30),\n",
       " datetime.date(2016, 4, 4),\n",
       " datetime.date(2016, 4, 6),\n",
       " datetime.date(2016, 4, 11),\n",
       " datetime.date(2016, 4, 13),\n",
       " datetime.date(2016, 4, 18),\n",
       " datetime.date(2016, 4, 20),\n",
       " datetime.date(2016, 4, 25),\n",
       " datetime.date(2016, 4, 27),\n",
       " datetime.date(2016, 5, 2),\n",
       " datetime.date(2016, 5, 4),\n",
       " datetime.date(2016, 5, 9),\n",
       " datetime.date(2016, 5, 11),\n",
       " datetime.date(2016, 5, 16),\n",
       " datetime.date(2016, 5, 18),\n",
       " datetime.date(2016, 5, 23),\n",
       " datetime.date(2016, 5, 25),\n",
       " datetime.date(2016, 5, 30),\n",
       " datetime.date(2016, 6, 1),\n",
       " datetime.date(2016, 6, 6),\n",
       " datetime.date(2016, 6, 8),\n",
       " datetime.date(2016, 6, 13),\n",
       " datetime.date(2016, 6, 15),\n",
       " datetime.date(2016, 6, 20),\n",
       " datetime.date(2016, 6, 22),\n",
       " datetime.date(2016, 6, 27),\n",
       " datetime.date(2016, 6, 29)]"
      ]
     },
     "execution_count": 135,
     "metadata": {},
     "output_type": "execute_result"
    }
   ],
   "source": [
    "dias_de_teoricas = lista_de_dias_de_clase(horarios, turno, cursada, feriados) \n",
    "dias_de_teoricas"
   ]
  },
  {
   "cell_type": "code",
   "execution_count": 144,
   "metadata": {
    "collapsed": true
   },
   "outputs": [],
   "source": [
    "workbook = xlsxwriter.Workbook('prueba2.xlsx')\n",
    "worksheet = workbook.add_worksheet('Cronograma')\n",
    "\n",
    "# Widen the first column to make the text clearer.\n",
    "# worksheet.set_column('A:A', 20)\n",
    "\n",
    "# Add a bold format to use to highlight cells.\n",
    "bold = workbook.add_format({'bold': True})\n",
    "\n",
    "# Escribamos los encabezados de la primera linea.\n",
    "worksheet.write('A1', 'Clase', bold)\n",
    "worksheet.write('B1', 'Fecha', bold)\n",
    "\n",
    "# Titulos de turnos\n",
    "j = 2\n",
    "for elem in horarios:\n",
    "    worksheet.write(0, j, list(horarios.keys())[j-2])\n",
    "    j += 1\n",
    "\n",
    "# Escribimos cada turno, despues se ordena la columna fecha\n",
    "# para tener el cronograma integrado.\n",
    "linea = 1\n",
    "contador_clase = 1\n",
    "for dia in dias_de_teoricas:\n",
    "    # Escribimos la fecha\n",
    "    worksheet.write(linea, 1, dia.strftime('%d-%m-%Y'))\n",
    " \n",
    "    # Chequeamos si es un feriado:\n",
    "    #   si lo es, lo advertimos y no numeramos la clase;\n",
    "    #   de otra forma numeramos la clase\n",
    "    if dia.strftime('%d-%m-%Y') in feriados:\n",
    "        worksheet.write(linea, 2, \"Feriado\")\n",
    "    else:\n",
    "        worksheet.write(linea, 0, turno + \" \" + '{0:02d}'.format(contador_clase))\n",
    "        contador_clase += 1\n",
    "    linea += 1 \n",
    "\n",
    "workbook.close()"
   ]
  },
  {
   "cell_type": "markdown",
   "metadata": {},
   "source": [
    "Ahora solo queda generalizar esto para incorporar la escritura de todos los turnos..."
   ]
  },
  {
   "cell_type": "code",
   "execution_count": 142,
   "metadata": {
    "collapsed": false
   },
   "outputs": [
    {
     "name": "stdout",
     "output_type": "stream",
     "text": [
      "Teoricas\n",
      "Laboratorio 1\n"
     ]
    }
   ],
   "source": [
    "for turnos in horarios:\n",
    "    print(turnos)"
   ]
  },
  {
   "cell_type": "code",
   "execution_count": 147,
   "metadata": {
    "collapsed": true
   },
   "outputs": [],
   "source": [
    "workbook = xlsxwriter.Workbook('prueba3.xlsx')\n",
    "worksheet = workbook.add_worksheet('Cronograma')\n",
    "\n",
    "# Widen the first column to make the text clearer.\n",
    "# worksheet.set_column('A:A', 20)\n",
    "\n",
    "# Add a bold format to use to highlight cells.\n",
    "bold = workbook.add_format({'bold': True})\n",
    "\n",
    "# Escribamos los encabezados de la primera linea.\n",
    "worksheet.write('A1', 'Clase', bold)\n",
    "worksheet.write('B1', 'Fecha', bold)\n",
    "\n",
    "# Titulos de turnos\n",
    "j = 2\n",
    "for elem in horarios:\n",
    "    worksheet.write(0, j, list(horarios.keys())[j-2])\n",
    "    j += 1\n",
    "\n",
    "# Escribimos cada turno, despues se ordena la columna fecha\n",
    "# para tener el cronograma integrado.\n",
    "linea = 1\n",
    "\n",
    "for turno in horarios:\n",
    "    contador_clase = 1\n",
    "    dias_del_turno = lista_de_dias_de_clase(horarios, turno, cursada, feriados) \n",
    "    for dia in dias_del_turno:\n",
    "        # Escribimos la fecha\n",
    "        worksheet.write(linea, 1, dia.strftime('%d-%m-%Y'))\n",
    " \n",
    "        # Chequeamos si es un feriado:\n",
    "        #   si lo es, lo advertimos y no numeramos la clase;\n",
    "        #   de otra forma numeramos la clase\n",
    "        if dia.strftime('%d-%m-%Y') in feriados:\n",
    "            worksheet.write(linea, 2, \"Feriado\")\n",
    "        else:\n",
    "            worksheet.write(linea, 0, turno + \" \" + '{0:02d}'.format(contador_clase))\n",
    "            contador_clase += 1\n",
    "        linea += 1 \n",
    "\n",
    "workbook.close()"
   ]
  },
  {
   "cell_type": "markdown",
   "metadata": {},
   "source": [
    "Genial! Parece funcionar correctamente. Vamos a probarlo con el caso real de este cuatrimestre..."
   ]
  },
  {
   "cell_type": "code",
   "execution_count": 160,
   "metadata": {
    "collapsed": false
   },
   "outputs": [],
   "source": [
    "def escribir_cronograma_excel(archivo):\n",
    "    import xlsxwriter\n",
    "    \n",
    "    workbook = xlsxwriter.Workbook(archivo + '.xlsx')\n",
    "    worksheet = workbook.add_worksheet('Cronograma')\n",
    "\n",
    "    # Add a bold format to use to highlight cells.\n",
    "    bold = workbook.add_format({'bold': True})\n",
    "\n",
    "    # Escribamos los encabezados de la primera linea.\n",
    "    worksheet.write('A1', 'Clase', bold)\n",
    "    worksheet.write('B1', 'Fecha', bold)\n",
    "\n",
    "    # Titulos de turnos\n",
    "    j = 2\n",
    "    for elem in horarios:\n",
    "        worksheet.write(0, j, list(horarios.keys())[j-2])\n",
    "        j += 1\n",
    "\n",
    "    # Escribimos cada turno, despues se ordena la columna fecha\n",
    "    # para tener el cronograma integrado.\n",
    "    linea = 1\n",
    "\n",
    "    for turno in horarios:\n",
    "        contador_clase = 1\n",
    "        dias_del_turno = lista_de_dias_de_clase(horarios, turno, cursada, feriados) \n",
    "        for dia in dias_del_turno:\n",
    "            # Escribimos la fecha\n",
    "            worksheet.write(linea, 1, dia.strftime('%d-%m-%Y'))\n",
    " \n",
    "            # Chequeamos si es un feriado:\n",
    "            #   si lo es, lo advertimos y no numeramos la clase;\n",
    "            #   de otra forma numeramos la clase\n",
    "            if dia.strftime('%d-%m-%Y') in feriados:\n",
    "                worksheet.write(linea, 2, \"Feriado\")\n",
    "            else:\n",
    "                worksheet.write(linea, 0, turno + \" \" + '{0:02d}'.format(contador_clase))\n",
    "                contador_clase += 1\n",
    "            linea += 1 \n",
    "\n",
    "    workbook.close()"
   ]
  },
  {
   "cell_type": "markdown",
   "metadata": {},
   "source": [
    "## Habiendo definido todo, operamos"
   ]
  },
  {
   "cell_type": "code",
   "execution_count": 161,
   "metadata": {
    "collapsed": true
   },
   "outputs": [],
   "source": [
    "fecha_inicio = datetime.date(2016,3,14)\n",
    "fecha_final  = datetime.date(2016,7,2)\n",
    "cursada = [fecha_inicio, fecha_final]\n",
    "pagina = 'http://exactas.uba.ar/academico/display.php?estructura=2&desarrollo=1&id_caja=31&nivel_caja=1i'\n",
    "horarios =  OrderedDict([('Teoricas', ['Monday','Wednesday']), \n",
    "                         ('Laboratorio 1', ['Tuesday']), \n",
    "                         ('Laboratorio 2', ['Friday'])])"
   ]
  },
  {
   "cell_type": "code",
   "execution_count": 162,
   "metadata": {
    "collapsed": true
   },
   "outputs": [],
   "source": [
    "feriados = lista_de_feriados(pagina)"
   ]
  },
  {
   "cell_type": "code",
   "execution_count": 163,
   "metadata": {
    "collapsed": false
   },
   "outputs": [],
   "source": [
    "escribir_cronograma_excel('pruebareal')"
   ]
  },
  {
   "cell_type": "markdown",
   "metadata": {},
   "source": [
    "# Solo falta ver como prepararlo para uso desde la linea de comandos"
   ]
  },
  {
   "cell_type": "markdown",
   "metadata": {},
   "source": [
    "Sobre todo el problema es determinar cual es la forma mas comoda de pasarle los argumentos..."
   ]
  },
  {
   "cell_type": "code",
   "execution_count": 293,
   "metadata": {
    "collapsed": false
   },
   "outputs": [
    {
     "name": "stdout",
     "output_type": "stream",
     "text": [
      "14-03-2016\n",
      "\n",
      "02-07-2016\n",
      "\n",
      "http://exactas.uba.ar/academico/display.php?estructura=2&desarrollo=1&id_caja=31&nivel_caja=1\n",
      "\n",
      "Teoricas:Monday\n",
      "\n",
      "Laboratorio 1:Tuesday\n",
      "\n",
      "Laboratorio 2:Friday\n",
      "\n"
     ]
    }
   ],
   "source": [
    "f = open('MiCursada.txt', 'r') # 'r' = read\n",
    "linea = []\n",
    "for line in f:\n",
    "    linea.append(line.rstrip('\\n').strip())\n",
    "    print(line) # note, coma erases the \"cartridge return\"\n",
    "f.close()"
   ]
  },
  {
   "cell_type": "markdown",
   "metadata": {},
   "source": [
    "Intentemos *parsear* este archivo"
   ]
  },
  {
   "cell_type": "code",
   "execution_count": 294,
   "metadata": {
    "collapsed": false
   },
   "outputs": [
    {
     "data": {
      "text/plain": [
       "['14-03-2016',\n",
       " '02-07-2016',\n",
       " 'http://exactas.uba.ar/academico/display.php?estructura=2&desarrollo=1&id_caja=31&nivel_caja=1',\n",
       " 'Teoricas:Monday',\n",
       " 'Laboratorio 1:Tuesday',\n",
       " 'Laboratorio 2:Friday']"
      ]
     },
     "execution_count": 294,
     "metadata": {},
     "output_type": "execute_result"
    }
   ],
   "source": [
    "linea"
   ]
  },
  {
   "cell_type": "code",
   "execution_count": 295,
   "metadata": {
    "collapsed": false
   },
   "outputs": [
    {
     "data": {
      "text/plain": [
       "['Teoricas', 'Monday']"
      ]
     },
     "execution_count": 295,
     "metadata": {},
     "output_type": "execute_result"
    }
   ],
   "source": [
    "linea[3].split(':')"
   ]
  },
  {
   "cell_type": "code",
   "execution_count": 181,
   "metadata": {
    "collapsed": false
   },
   "outputs": [
    {
     "data": {
      "text/plain": [
       "['Laboratorio 1', 'Tuesday']"
      ]
     },
     "execution_count": 181,
     "metadata": {},
     "output_type": "execute_result"
    }
   ],
   "source": [
    "linea[4].split(':')"
   ]
  },
  {
   "cell_type": "code",
   "execution_count": 186,
   "metadata": {
    "collapsed": false
   },
   "outputs": [],
   "source": [
    "turno, dias = linea[3].split(':')"
   ]
  },
  {
   "cell_type": "code",
   "execution_count": 190,
   "metadata": {
    "collapsed": true
   },
   "outputs": [],
   "source": [
    "intento_horario = OrderedDict([(turno, [dias])])"
   ]
  },
  {
   "cell_type": "code",
   "execution_count": 191,
   "metadata": {
    "collapsed": false
   },
   "outputs": [
    {
     "data": {
      "text/plain": [
       "OrderedDict([('Teoricas', ['Monday,Wednesday'])])"
      ]
     },
     "execution_count": 191,
     "metadata": {},
     "output_type": "execute_result"
    }
   ],
   "source": [
    "intento_horario"
   ]
  },
  {
   "cell_type": "code",
   "execution_count": 192,
   "metadata": {
    "collapsed": true
   },
   "outputs": [],
   "source": [
    "intento_horario = OrderedDict()"
   ]
  },
  {
   "cell_type": "code",
   "execution_count": 193,
   "metadata": {
    "collapsed": true
   },
   "outputs": [],
   "source": [
    "intento_horario.update({turno: [dias]})"
   ]
  },
  {
   "cell_type": "code",
   "execution_count": 194,
   "metadata": {
    "collapsed": false
   },
   "outputs": [
    {
     "data": {
      "text/plain": [
       "OrderedDict([('Teoricas', ['Monday,Wednesday'])])"
      ]
     },
     "execution_count": 194,
     "metadata": {},
     "output_type": "execute_result"
    }
   ],
   "source": [
    "intento_horario"
   ]
  },
  {
   "cell_type": "code",
   "execution_count": 195,
   "metadata": {
    "collapsed": true
   },
   "outputs": [],
   "source": [
    "turno2, dias2 = linea[4].split(':')"
   ]
  },
  {
   "cell_type": "code",
   "execution_count": 196,
   "metadata": {
    "collapsed": true
   },
   "outputs": [],
   "source": [
    "intento_horario.update({turno2: [dias2]})"
   ]
  },
  {
   "cell_type": "code",
   "execution_count": 197,
   "metadata": {
    "collapsed": false
   },
   "outputs": [
    {
     "data": {
      "text/plain": [
       "OrderedDict([('Teoricas', ['Monday,Wednesday']),\n",
       "             ('Laboratorio 1', ['Tuesday'])])"
      ]
     },
     "execution_count": 197,
     "metadata": {},
     "output_type": "execute_result"
    }
   ],
   "source": [
    "intento_horario"
   ]
  },
  {
   "cell_type": "code",
   "execution_count": 252,
   "metadata": {
    "collapsed": true
   },
   "outputs": [],
   "source": [
    "f = open('MiCursada.txt', 'r') \n",
    "datos = []\n",
    "for line in f:\n",
    "    datos.append(line.rstrip('\\n').strip())\n",
    "f.close()\n",
    "\n",
    "fecha_inicio = datos[0]\n",
    "fecha_final = datos[1]\n",
    "pagina = datos[2]\n",
    "\n",
    "datos = datos[3:]\n",
    "\n",
    "horarios = OrderedDict()\n",
    "for linea in datos:\n",
    "    turno, dia = linea.split(':')\n",
    "    horarios.update({turno: [dia]})"
   ]
  },
  {
   "cell_type": "code",
   "execution_count": 253,
   "metadata": {
    "collapsed": false
   },
   "outputs": [
    {
     "data": {
      "text/plain": [
       "OrderedDict([('Teoricas', ['Monday,Wednesday']),\n",
       "             ('Laboratorio 1', ['Tuesday']),\n",
       "             ('Laboratorio 2', ['Friday'])])"
      ]
     },
     "execution_count": 253,
     "metadata": {},
     "output_type": "execute_result"
    }
   ],
   "source": [
    "horarios"
   ]
  },
  {
   "cell_type": "code",
   "execution_count": 254,
   "metadata": {
    "collapsed": false
   },
   "outputs": [
    {
     "data": {
      "text/plain": [
       "'http://exactas.uba.ar/academico/display.php?estructura=2&desarrollo=1&id_caja=31&nivel_caja=1'"
      ]
     },
     "execution_count": 254,
     "metadata": {},
     "output_type": "execute_result"
    }
   ],
   "source": [
    "pagina"
   ]
  },
  {
   "cell_type": "code",
   "execution_count": 255,
   "metadata": {
    "collapsed": false
   },
   "outputs": [
    {
     "data": {
      "text/plain": [
       "'14-03-2016'"
      ]
     },
     "execution_count": 255,
     "metadata": {},
     "output_type": "execute_result"
    }
   ],
   "source": [
    "fecha_inicio"
   ]
  },
  {
   "cell_type": "code",
   "execution_count": 256,
   "metadata": {
    "collapsed": false
   },
   "outputs": [
    {
     "data": {
      "text/plain": [
       "'02-07-2016'"
      ]
     },
     "execution_count": 256,
     "metadata": {},
     "output_type": "execute_result"
    }
   ],
   "source": [
    "fecha_final"
   ]
  },
  {
   "cell_type": "markdown",
   "metadata": {},
   "source": [
    "# Como convertir estos strings a fechas que entienda..."
   ]
  },
  {
   "cell_type": "code",
   "execution_count": 222,
   "metadata": {
    "collapsed": false
   },
   "outputs": [
    {
     "data": {
      "text/plain": [
       "'02-07-2016'"
      ]
     },
     "execution_count": 222,
     "metadata": {},
     "output_type": "execute_result"
    }
   ],
   "source": [
    "fecha_final"
   ]
  },
  {
   "cell_type": "code",
   "execution_count": 224,
   "metadata": {
    "collapsed": false
   },
   "outputs": [
    {
     "data": {
      "text/plain": [
       "datetime.date(2016, 7, 2)"
      ]
     },
     "execution_count": 224,
     "metadata": {},
     "output_type": "execute_result"
    }
   ],
   "source": [
    "datetime.datetime.strptime(fecha_final, '%d-%m-%Y').date()"
   ]
  },
  {
   "cell_type": "markdown",
   "metadata": {},
   "source": [
    "# Empaquetemoslo todo!"
   ]
  },
  {
   "cell_type": "code",
   "execution_count": 296,
   "metadata": {
    "collapsed": true
   },
   "outputs": [],
   "source": [
    "def parsear_datos_iniciales(archivo_de_datos_de_cursada):\n",
    "    \n",
    "    f = open(archivo_de_datos_de_cursada, 'r') \n",
    "    datos = []\n",
    "    for line in f:\n",
    "        datos.append(line.rstrip('\\n').strip())\n",
    "    f.close()\n",
    "\n",
    "    fecha_inicio = datetime.datetime.strptime(\n",
    "        datos[0],'%d-%m-%Y').date()\n",
    "    fecha_final = datetime.datetime.strptime(\n",
    "        datos[1],'%d-%m-%Y').date()\n",
    "    lapso_cursada = [fecha_inicio, fecha_final]\n",
    "    pagina = datos[2]\n",
    "\n",
    "    datos = datos[3:]\n",
    "\n",
    "    horarios = OrderedDict()\n",
    "    for linea in datos:\n",
    "        turno, dia = linea.split(':')\n",
    "        dias = dia.split(',')\n",
    "        horarios.update({turno: dias})\n",
    "    \n",
    "    return fecha_inicio, fecha_final, pagina, horarios"
   ]
  },
  {
   "cell_type": "code",
   "execution_count": 297,
   "metadata": {
    "collapsed": true
   },
   "outputs": [],
   "source": [
    "def lista_de_dias_de_clase(horarios, turno, fecha_inicio, fecha_final, feriados):\n",
    "    import datetime\n",
    "    \n",
    "    delta = fecha_final - fecha_inicio\n",
    "\n",
    "    lista_dias = []\n",
    "    contador = 0\n",
    "\n",
    "    for i in range(delta.days + 1):\n",
    "        current = fecha_inicio + datetime.timedelta(days=i)\n",
    "        if current.strftime(\"%A\") in horarios[turno]:\n",
    "            lista_dias.append(current)\n",
    "            contador += 1\n",
    "           \n",
    "    return lista_dias"
   ]
  },
  {
   "cell_type": "code",
   "execution_count": 298,
   "metadata": {
    "collapsed": true
   },
   "outputs": [],
   "source": [
    "def lista_de_feriados(pagina_web_calendario_exactas, guardar=False):\n",
    "    from bs4 import BeautifulSoup\n",
    "    from urllib.request import urlopen\n",
    "    import codecs\n",
    "\n",
    "    response = urlopen(pagina_web_calendario_exactas)\n",
    "    html = response.read()\n",
    "    soup = BeautifulSoup(html,\"lxml\")\n",
    "\n",
    "    # el 1 al final de la siguiente linea es porque la table que buscamos\n",
    "    # en el sitio web de la FCEN es la *segunda tabla* que aparece con la\n",
    "    # descripcion de clase \"tabla_persona\", esperemos que no la cambien!\n",
    "    tabla_feriados = soup.findAll(\"table\", {\"class\" : \"tabla_persona\"})[1] \n",
    "\n",
    "    feriados = []\n",
    "\n",
    "    records = []\n",
    "    for row in tabla_feriados.findAll('tr')[1:]:\n",
    "        col = row.findAll('td')\n",
    "        fecha_feriado = col[0].string.strip()\n",
    "        razon_feriado = col[1].string.strip()\n",
    "        record = '%s,%s' % (fecha_feriado, razon_feriado) \n",
    "        records.append(record)\n",
    "        feriados.append(fecha_feriado)\n",
    "    \n",
    "    if guardar == True:\n",
    "        fl = codecs.open('Lista_de_Feriados.txt', 'wb', 'utf8')\n",
    "        line = ';'.join(records)\n",
    "        fl.write(line + u'\\r\\n')\n",
    "        fl.close()\n",
    "        \n",
    "    return feriados"
   ]
  },
  {
   "cell_type": "code",
   "execution_count": 299,
   "metadata": {
    "collapsed": true
   },
   "outputs": [],
   "source": [
    "def escribir_cronograma_excel(archivo, horarios, fecha_inicio, fecha_final, feriados):\n",
    "    import xlsxwriter\n",
    "    \n",
    "    workbook = xlsxwriter.Workbook(archivo + '.xlsx')\n",
    "    worksheet = workbook.add_worksheet('Cronograma')\n",
    "\n",
    "    # Add a bold format to use to highlight cells.\n",
    "    bold = workbook.add_format({'bold': True})\n",
    "\n",
    "    # Escribamos los encabezados de la primera linea.\n",
    "    worksheet.write('A1', 'Clase', bold)\n",
    "    worksheet.write('B1', 'Fecha', bold)\n",
    "\n",
    "    # Titulos de turnos\n",
    "    j = 2\n",
    "    for elem in horarios:\n",
    "        worksheet.write(0, j, list(horarios.keys())[j-2])\n",
    "        j += 1\n",
    "\n",
    "    # Escribimos cada turno, despues se ordena la columna fecha\n",
    "    # para tener el cronograma integrado.\n",
    "    linea = 1\n",
    "\n",
    "    for turno in horarios:\n",
    "        contador_clase = 1\n",
    "        dias_del_turno = lista_de_dias_de_clase(horarios, turno, fecha_inicio, fecha_final, feriados) \n",
    "        for dia in dias_del_turno:\n",
    "            # Escribimos la fecha\n",
    "            worksheet.write(linea, 1, dia.strftime('%d-%m-%Y'))\n",
    " \n",
    "            # Chequeamos si es un feriado:\n",
    "            #   si lo es, lo advertimos y no numeramos la clase;\n",
    "            #   de otra forma numeramos la clase\n",
    "            if dia.strftime('%d-%m-%Y') in feriados:\n",
    "                worksheet.write(linea, 2, \"Feriado\")\n",
    "            else:\n",
    "                worksheet.write(linea, 0, turno + \" \" + '{0:02d}'.format(contador_clase))\n",
    "                contador_clase += 1\n",
    "            linea += 1 \n",
    "\n",
    "    workbook.close()"
   ]
  },
  {
   "cell_type": "code",
   "execution_count": 307,
   "metadata": {
    "collapsed": true
   },
   "outputs": [],
   "source": [
    "def crear_cronograma(archivo_de_datos_de_cursada, archivo_salida):\n",
    "    \n",
    "    fecha_inicio, fecha_final, pagina, horarios = parsear_datos_iniciales(archivo_de_datos_de_cursada)\n",
    "    feriados = lista_de_feriados(pagina)\n",
    "    escribir_cronograma_excel(archivo_salida, horarios, fecha_inicio, fecha_final, feriados)\n",
    "    print('Cronograma creado en ' + archivo_salida + '.xlsx.') "
   ]
  },
  {
   "cell_type": "code",
   "execution_count": 308,
   "metadata": {
    "collapsed": false
   },
   "outputs": [
    {
     "name": "stdout",
     "output_type": "stream",
     "text": [
      "Cronograma creado en Cronograma_F1Q_1c2016.xlsx.\n"
     ]
    }
   ],
   "source": [
    "# Ensayamos usar el paquete completo! \n",
    "fecha_inicio = []\n",
    "fecha_final = []\n",
    "pagina = []\n",
    "horarios = []\n",
    "feriados = []\n",
    "horarios = crear_cronograma('MiCursada.txt','Cronograma_F1Q_1c2016')"
   ]
  },
  {
   "cell_type": "code",
   "execution_count": null,
   "metadata": {
    "collapsed": true
   },
   "outputs": [],
   "source": []
  }
 ],
 "metadata": {
  "kernelspec": {
   "display_name": "Python 3",
   "language": "python",
   "name": "python3"
  },
  "language_info": {
   "codemirror_mode": {
    "name": "ipython",
    "version": 3
   },
   "file_extension": ".py",
   "mimetype": "text/x-python",
   "name": "python",
   "nbconvert_exporter": "python",
   "pygments_lexer": "ipython3",
   "version": "3.5.1"
  }
 },
 "nbformat": 4,
 "nbformat_minor": 0
}
